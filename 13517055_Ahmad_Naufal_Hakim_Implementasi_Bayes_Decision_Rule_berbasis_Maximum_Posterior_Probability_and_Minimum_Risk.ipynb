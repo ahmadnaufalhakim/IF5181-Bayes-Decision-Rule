{
  "nbformat": 4,
  "nbformat_minor": 0,
  "metadata": {
    "colab": {
      "name": "13517055 Ahmad Naufal Hakim - Implementasi Bayes Decision Rule berbasis Maximum Posterior Probability and Minimum Risk.ipynb",
      "provenance": [],
      "collapsed_sections": [],
      "toc_visible": true
    },
    "kernelspec": {
      "name": "python3",
      "display_name": "Python 3"
    }
  },
  "cells": [
    {
      "cell_type": "markdown",
      "metadata": {
        "id": "twybulYRuBDM",
        "colab_type": "text"
      },
      "source": [
        "# Implementasi Bayes Decision Rule berbasis Maximum Posterior Probability and Minimum Risk\n",
        "\n",
        "- Nama : Ahmad Naufal Hakim\n",
        "- NIM : 13517055\n",
        "- Link video : https://www.youtube.com/watch?v=53mht_IIagE\n",
        "\n",
        "## Deskripsi Masalah\n",
        "Klasifikasi apakah suatu ikan merupakan ikan salmon atau ikan seabass menggunakan bantuan data histogram jumlah ikan salmon dan seabass terhadap warna kulitnya.\n",
        "\n",
        "## Deskripsi Solusi atau Implementasi\n",
        "Untuk menyelesaikan permasalahan di atas, akan diimplementasikan Bayes Decision Rule berbasis Maximum Posterior Probability dan Minimum Risk dengan menggunakan bahasa Python.\n",
        "\n",
        "Data yang digunakan berasal dari histogram dalam buku *Pattern Classification, 2nd Ed.* oleh Richard O. Duda (2001) di halaman 6 (figure 1.3).\n",
        "\n",
        "Dari histogram tersebut, dibuat sebuah file csv dengan 3 kolom (lightness, countSalmon, dan countSeaBass), lalu dilakukan perhitungan probabilitas dan implementasi Bayes Decision Rule menggunakan bahasa Python."
      ]
    },
    {
      "cell_type": "markdown",
      "metadata": {
        "id": "V7rfJnl9SDsf",
        "colab_type": "text"
      },
      "source": [
        "## 1. Import file csv yang berisikan lightness, countSalmon, dan countSeaBass"
      ]
    },
    {
      "cell_type": "code",
      "metadata": {
        "id": "mbKhArUIwY2B",
        "colab_type": "code",
        "colab": {
          "base_uri": "https://localhost:8080/",
          "height": 204
        },
        "outputId": "aecf1b4f-d283-40b1-dd46-bba4b29f43c9"
      },
      "source": [
        "import pandas as pd\n",
        "data = pd.read_csv(\"lightness_fish_classification.csv\")\n",
        "data.head()"
      ],
      "execution_count": 1,
      "outputs": [
        {
          "output_type": "execute_result",
          "data": {
            "text/html": [
              "<div>\n",
              "<style scoped>\n",
              "    .dataframe tbody tr th:only-of-type {\n",
              "        vertical-align: middle;\n",
              "    }\n",
              "\n",
              "    .dataframe tbody tr th {\n",
              "        vertical-align: top;\n",
              "    }\n",
              "\n",
              "    .dataframe thead th {\n",
              "        text-align: right;\n",
              "    }\n",
              "</style>\n",
              "<table border=\"1\" class=\"dataframe\">\n",
              "  <thead>\n",
              "    <tr style=\"text-align: right;\">\n",
              "      <th></th>\n",
              "      <th>lightness</th>\n",
              "      <th>countSalmon</th>\n",
              "      <th>countSeaBass</th>\n",
              "    </tr>\n",
              "  </thead>\n",
              "  <tbody>\n",
              "    <tr>\n",
              "      <th>0</th>\n",
              "      <td>0.5-1.0</td>\n",
              "      <td>2</td>\n",
              "      <td>0</td>\n",
              "    </tr>\n",
              "    <tr>\n",
              "      <th>1</th>\n",
              "      <td>1.0-1.5</td>\n",
              "      <td>8</td>\n",
              "      <td>0</td>\n",
              "    </tr>\n",
              "    <tr>\n",
              "      <th>2</th>\n",
              "      <td>1.5-2.0</td>\n",
              "      <td>4</td>\n",
              "      <td>0</td>\n",
              "    </tr>\n",
              "    <tr>\n",
              "      <th>3</th>\n",
              "      <td>2.0-2.5</td>\n",
              "      <td>7</td>\n",
              "      <td>0</td>\n",
              "    </tr>\n",
              "    <tr>\n",
              "      <th>4</th>\n",
              "      <td>2.5-3.0</td>\n",
              "      <td>10</td>\n",
              "      <td>0</td>\n",
              "    </tr>\n",
              "  </tbody>\n",
              "</table>\n",
              "</div>"
            ],
            "text/plain": [
              "  lightness  countSalmon  countSeaBass\n",
              "0   0.5-1.0            2             0\n",
              "1   1.0-1.5            8             0\n",
              "2   1.5-2.0            4             0\n",
              "3   2.0-2.5            7             0\n",
              "4   2.5-3.0           10             0"
            ]
          },
          "metadata": {
            "tags": []
          },
          "execution_count": 1
        }
      ]
    },
    {
      "cell_type": "code",
      "metadata": {
        "id": "xeAD9fB_4AE6",
        "colab_type": "code",
        "colab": {
          "base_uri": "https://localhost:8080/",
          "height": 51
        },
        "outputId": "384c5936-0baf-404a-f51b-83a98d236662"
      },
      "source": [
        "n_salmon = sum(data['countSalmon'])\n",
        "print('Jumlah ikan salmon:', n_salmon)\n",
        "\n",
        "n_seabass = sum(data['countSeaBass'])\n",
        "print('Jumlah ikan seabass:', n_seabass)"
      ],
      "execution_count": 2,
      "outputs": [
        {
          "output_type": "stream",
          "text": [
            "Jumlah ikan salmon: 74\n",
            "Jumlah ikan seabass: 57\n"
          ],
          "name": "stdout"
        }
      ]
    },
    {
      "cell_type": "markdown",
      "metadata": {
        "id": "C7DaKtrM6e09",
        "colab_type": "text"
      },
      "source": [
        "X menyatakan sebuah range lightness dari ikan:\n",
        "\n",
        "- x[0] = `'0.5-1.0'`\n",
        "- x[1] = `'1.0-1.5'`\n",
        "- dst.\n"
      ]
    },
    {
      "cell_type": "code",
      "metadata": {
        "id": "59PECh1I4gxp",
        "colab_type": "code",
        "colab": {
          "base_uri": "https://localhost:8080/",
          "height": 340
        },
        "outputId": "7ad20ed3-7c1e-4958-b875-bcd59b6dd3b5"
      },
      "source": [
        "x = [lightness for lightness in data['lightness']]\n",
        "x"
      ],
      "execution_count": 3,
      "outputs": [
        {
          "output_type": "execute_result",
          "data": {
            "text/plain": [
              "['0.5-1.0',\n",
              " '1.0-1.5',\n",
              " '1.5-2.0',\n",
              " '2.0-2.5',\n",
              " '2.5-3.0',\n",
              " '3.0-3.5',\n",
              " '3.5-4.0',\n",
              " '4.0-4.5',\n",
              " '4.5-5.0',\n",
              " '5.0-5.5',\n",
              " '5.5-6.0',\n",
              " '6.0-6.5',\n",
              " '6.5-7.0',\n",
              " '7.0-7.5',\n",
              " '7.5-8.0',\n",
              " '8.0-8.5',\n",
              " '8.5-9.0',\n",
              " '9.0-9.5',\n",
              " '9.5-10.0']"
            ]
          },
          "metadata": {
            "tags": []
          },
          "execution_count": 3
        }
      ]
    },
    {
      "cell_type": "markdown",
      "metadata": {
        "id": "MS2cYSbXWlRM",
        "colab_type": "text"
      },
      "source": [
        "## 2. Mencari nilai P(kelas) dan P(x | kelas)."
      ]
    },
    {
      "cell_type": "markdown",
      "metadata": {
        "id": "5dYOUBPD78cB",
        "colab_type": "text"
      },
      "source": [
        "P(kelas) di mana kelas = __[salmon, seabass]__\n",
        "\n",
        "- P(salmon) = n1 / (n1 + n2)\n",
        "\n",
        "- P(seabass) = n2 / (n1 + n2)"
      ]
    },
    {
      "cell_type": "code",
      "metadata": {
        "id": "naa0WRFS8D2d",
        "colab_type": "code",
        "colab": {
          "base_uri": "https://localhost:8080/",
          "height": 34
        },
        "outputId": "a2bb1a12-7594-4e47-be9e-21ffec4c0fdd"
      },
      "source": [
        "n_fishes = n_salmon + n_seabass\n",
        "\n",
        "P_prior = {\n",
        "  'salmon': n_salmon / n_fishes,\n",
        "  'seabass': n_seabass / n_fishes\n",
        "}\n",
        "\n",
        "P_prior"
      ],
      "execution_count": 4,
      "outputs": [
        {
          "output_type": "execute_result",
          "data": {
            "text/plain": [
              "{'salmon': 0.5648854961832062, 'seabass': 0.4351145038167939}"
            ]
          },
          "metadata": {
            "tags": []
          },
          "execution_count": 4
        }
      ]
    },
    {
      "cell_type": "markdown",
      "metadata": {
        "id": "shLcd3E6oTue",
        "colab_type": "text"
      },
      "source": [
        "P(x | kelas) = P(x, kelas) / N_kelas"
      ]
    },
    {
      "cell_type": "code",
      "metadata": {
        "id": "4SCx5EH3xztw",
        "colab_type": "code",
        "colab": {
          "base_uri": "https://localhost:8080/",
          "height": 340
        },
        "outputId": "3d9b5979-73ff-483d-d710-c00a663b48f8"
      },
      "source": [
        "P_conditional = {\n",
        "  row['lightness']: {\n",
        "    'salmon': row['countSalmon'] / n_salmon,\n",
        "    'seabass': row['countSeaBass'] / n_seabass\n",
        "  } for index, row in data.iterrows()\n",
        "}\n",
        "\n",
        "P_conditional"
      ],
      "execution_count": 5,
      "outputs": [
        {
          "output_type": "execute_result",
          "data": {
            "text/plain": [
              "{'0.5-1.0': {'salmon': 0.02702702702702703, 'seabass': 0.0},\n",
              " '1.0-1.5': {'salmon': 0.10810810810810811, 'seabass': 0.0},\n",
              " '1.5-2.0': {'salmon': 0.05405405405405406, 'seabass': 0.0},\n",
              " '2.0-2.5': {'salmon': 0.0945945945945946, 'seabass': 0.0},\n",
              " '2.5-3.0': {'salmon': 0.13513513513513514, 'seabass': 0.0},\n",
              " '3.0-3.5': {'salmon': 0.16216216216216217, 'seabass': 0.0},\n",
              " '3.5-4.0': {'salmon': 0.10810810810810811, 'seabass': 0.017543859649122806},\n",
              " '4.0-4.5': {'salmon': 0.08108108108108109, 'seabass': 0.0},\n",
              " '4.5-5.0': {'salmon': 0.10810810810810811, 'seabass': 0.05263157894736842},\n",
              " '5.0-5.5': {'salmon': 0.05405405405405406, 'seabass': 0.05263157894736842},\n",
              " '5.5-6.0': {'salmon': 0.04054054054054054, 'seabass': 0.07017543859649122},\n",
              " '6.0-6.5': {'salmon': 0.013513513513513514, 'seabass': 0.10526315789473684},\n",
              " '6.5-7.0': {'salmon': 0.013513513513513514, 'seabass': 0.08771929824561403},\n",
              " '7.0-7.5': {'salmon': 0.0, 'seabass': 0.21052631578947367},\n",
              " '7.5-8.0': {'salmon': 0.0, 'seabass': 0.15789473684210525},\n",
              " '8.0-8.5': {'salmon': 0.0, 'seabass': 0.15789473684210525},\n",
              " '8.5-9.0': {'salmon': 0.0, 'seabass': 0.03508771929824561},\n",
              " '9.0-9.5': {'salmon': 0.0, 'seabass': 0.017543859649122806},\n",
              " '9.5-10.0': {'salmon': 0.0, 'seabass': 0.03508771929824561}}"
            ]
          },
          "metadata": {
            "tags": []
          },
          "execution_count": 5
        }
      ]
    },
    {
      "cell_type": "markdown",
      "metadata": {
        "id": "OMrw79ez550_",
        "colab_type": "text"
      },
      "source": [
        "## 3. Implementasi Bayes Decision Rule berbasis *Maximum Posterior Probability*"
      ]
    },
    {
      "cell_type": "markdown",
      "metadata": {
        "id": "71bHS4SL8BxV",
        "colab_type": "text"
      },
      "source": [
        "Nilai probabilitas posterior untuk suatu kelas w_i diberikan data x bisa didapatkan dengan menggunakan formula perhitungan sebagai berikut:\n",
        "\n",
        "> P(w_i | x) = *likelihood * prior / evidence*\n",
        "\n",
        "atau\n",
        "\n",
        "> P(w_i | x) = (P(x | w_i) * P(w_i)) / P(x)\n",
        "\n",
        "Karena nilai P(w_i | x) akan dibandingkan antar semua kelas w yang ada dan nilai P(x) untuk semua kelas bernilai sama, maka nilai P(x) bisa kita abaikan dalam perhitungan."
      ]
    },
    {
      "cell_type": "code",
      "metadata": {
        "id": "6fZ38VQ76N6n",
        "colab_type": "code",
        "colab": {
          "base_uri": "https://localhost:8080/",
          "height": 697
        },
        "outputId": "8da25307-c138-4211-8ee1-905d607622bb"
      },
      "source": [
        "P_posterior = {\n",
        "  'salmon': {\n",
        "    row['lightness']: P_conditional[row['lightness']]['salmon'] * P_prior['salmon'] for index, row in data.iterrows()\n",
        "  },\n",
        "  'seabass': {\n",
        "    row['lightness']: P_conditional[row['lightness']]['seabass'] * P_prior['seabass'] for index, row in data.iterrows()\n",
        "  }\n",
        "}\n",
        "\n",
        "for key1, value1 in P_posterior.items() :\n",
        "  print(key1)\n",
        "  for key2, value2 in value1.items() :\n",
        "    print('\\t', key2, ':', value2)"
      ],
      "execution_count": 6,
      "outputs": [
        {
          "output_type": "stream",
          "text": [
            "salmon\n",
            "\t 0.5-1.0 : 0.015267175572519087\n",
            "\t 1.0-1.5 : 0.06106870229007635\n",
            "\t 1.5-2.0 : 0.030534351145038174\n",
            "\t 2.0-2.5 : 0.0534351145038168\n",
            "\t 2.5-3.0 : 0.07633587786259544\n",
            "\t 3.0-3.5 : 0.09160305343511452\n",
            "\t 3.5-4.0 : 0.06106870229007635\n",
            "\t 4.0-4.5 : 0.04580152671755726\n",
            "\t 4.5-5.0 : 0.06106870229007635\n",
            "\t 5.0-5.5 : 0.030534351145038174\n",
            "\t 5.5-6.0 : 0.02290076335877863\n",
            "\t 6.0-6.5 : 0.007633587786259543\n",
            "\t 6.5-7.0 : 0.007633587786259543\n",
            "\t 7.0-7.5 : 0.0\n",
            "\t 7.5-8.0 : 0.0\n",
            "\t 8.0-8.5 : 0.0\n",
            "\t 8.5-9.0 : 0.0\n",
            "\t 9.0-9.5 : 0.0\n",
            "\t 9.5-10.0 : 0.0\n",
            "seabass\n",
            "\t 0.5-1.0 : 0.0\n",
            "\t 1.0-1.5 : 0.0\n",
            "\t 1.5-2.0 : 0.0\n",
            "\t 2.0-2.5 : 0.0\n",
            "\t 2.5-3.0 : 0.0\n",
            "\t 3.0-3.5 : 0.0\n",
            "\t 3.5-4.0 : 0.007633587786259542\n",
            "\t 4.0-4.5 : 0.0\n",
            "\t 4.5-5.0 : 0.022900763358778626\n",
            "\t 5.0-5.5 : 0.022900763358778626\n",
            "\t 5.5-6.0 : 0.030534351145038167\n",
            "\t 6.0-6.5 : 0.04580152671755725\n",
            "\t 6.5-7.0 : 0.03816793893129771\n",
            "\t 7.0-7.5 : 0.0916030534351145\n",
            "\t 7.5-8.0 : 0.06870229007633588\n",
            "\t 8.0-8.5 : 0.06870229007633588\n",
            "\t 8.5-9.0 : 0.015267175572519083\n",
            "\t 9.0-9.5 : 0.007633587786259542\n",
            "\t 9.5-10.0 : 0.015267175572519083\n"
          ],
          "name": "stdout"
        }
      ]
    },
    {
      "cell_type": "markdown",
      "metadata": {
        "id": "99r9c6_iFoG-",
        "colab_type": "text"
      },
      "source": [
        "Setelah mendapatkan nilai probabilitas posterior untuk kelas salmon dan seabass, maka kita bisa menentukan *decision class* yang akan diambil untuk setiap interval yang ada berdasarkan nilai probabilitas tersebut."
      ]
    },
    {
      "cell_type": "code",
      "metadata": {
        "id": "2kiTAs2_Gdvi",
        "colab_type": "code",
        "colab": {
          "base_uri": "https://localhost:8080/",
          "height": 340
        },
        "outputId": "106d7d33-a830-4013-df71-950637212806"
      },
      "source": [
        "for interval in x :\n",
        "  decision = 'salmon' if max(P_posterior['salmon'][interval], P_posterior['seabass'][interval]) == P_posterior['salmon'][interval] else 'seabass'\n",
        "  print('Ikan dengan nilai lightness', interval, 'akan diklasifikasikan sebagai ikan', decision)"
      ],
      "execution_count": 7,
      "outputs": [
        {
          "output_type": "stream",
          "text": [
            "Ikan dengan nilai lightness 0.5-1.0 akan diklasifikasikan sebagai ikan salmon\n",
            "Ikan dengan nilai lightness 1.0-1.5 akan diklasifikasikan sebagai ikan salmon\n",
            "Ikan dengan nilai lightness 1.5-2.0 akan diklasifikasikan sebagai ikan salmon\n",
            "Ikan dengan nilai lightness 2.0-2.5 akan diklasifikasikan sebagai ikan salmon\n",
            "Ikan dengan nilai lightness 2.5-3.0 akan diklasifikasikan sebagai ikan salmon\n",
            "Ikan dengan nilai lightness 3.0-3.5 akan diklasifikasikan sebagai ikan salmon\n",
            "Ikan dengan nilai lightness 3.5-4.0 akan diklasifikasikan sebagai ikan salmon\n",
            "Ikan dengan nilai lightness 4.0-4.5 akan diklasifikasikan sebagai ikan salmon\n",
            "Ikan dengan nilai lightness 4.5-5.0 akan diklasifikasikan sebagai ikan salmon\n",
            "Ikan dengan nilai lightness 5.0-5.5 akan diklasifikasikan sebagai ikan salmon\n",
            "Ikan dengan nilai lightness 5.5-6.0 akan diklasifikasikan sebagai ikan seabass\n",
            "Ikan dengan nilai lightness 6.0-6.5 akan diklasifikasikan sebagai ikan seabass\n",
            "Ikan dengan nilai lightness 6.5-7.0 akan diklasifikasikan sebagai ikan seabass\n",
            "Ikan dengan nilai lightness 7.0-7.5 akan diklasifikasikan sebagai ikan seabass\n",
            "Ikan dengan nilai lightness 7.5-8.0 akan diklasifikasikan sebagai ikan seabass\n",
            "Ikan dengan nilai lightness 8.0-8.5 akan diklasifikasikan sebagai ikan seabass\n",
            "Ikan dengan nilai lightness 8.5-9.0 akan diklasifikasikan sebagai ikan seabass\n",
            "Ikan dengan nilai lightness 9.0-9.5 akan diklasifikasikan sebagai ikan seabass\n",
            "Ikan dengan nilai lightness 9.5-10.0 akan diklasifikasikan sebagai ikan seabass\n"
          ],
          "name": "stdout"
        }
      ]
    },
    {
      "cell_type": "markdown",
      "metadata": {
        "id": "Tx73HdS06Fhz",
        "colab_type": "text"
      },
      "source": [
        "## 4. Implementasi Bayes Decision Rule berbasis *Minimum Risk*"
      ]
    },
    {
      "cell_type": "markdown",
      "metadata": {
        "id": "n9Wa-7XiYJpi",
        "colab_type": "text"
      },
      "source": [
        "Dalam Bayes Decision Rule berbasis *Minimum Risk*, didefinisikan nilai alpha adalah action yang diambil untuk menentukan kelas suatu data berdasarkan nilai *loss* ketika mengambil action tersebut.\n",
        "\n",
        "Contoh: untuk __mengambil__ atau __meninggalkan__ mata kuliah berdasarkan klasifikasi *good*, *fair*, atau *bad* pada sebuah mata kuliah\n",
        "\n",
        "Dalam kasus ini, nilai alpha ada dua, yaitu menentukan jika suatu ikan adalah ikan salmon (__decide salmon__) atau ikan seabass (__decide seabass__). Misalkan aksi 'decide salmon' dan kelas salmon diidentifikasikan sebagai angka 0, serta aksi 'decide seabass' dan kelas seabass diidentifikasikan sebagai angka 1, maka nilai *loss function* bisa direpresentasikan sebagai sebuah matriks dengan dimensi 2x2.\n",
        "\n",
        "Dimensi kolom menyatakan kelas ikan dan dimensi baris menyatakan aksi yang diambil."
      ]
    },
    {
      "cell_type": "code",
      "metadata": {
        "id": "RfVqu9F06NV7",
        "colab_type": "code",
        "colab": {
          "base_uri": "https://localhost:8080/",
          "height": 51
        },
        "outputId": "7f34e732-6785-47d8-cceb-63c39f95d4cf"
      },
      "source": [
        "loss = [[0, 1], [1, 0]]\n",
        "for row in loss :\n",
        "  print(row)"
      ],
      "execution_count": 8,
      "outputs": [
        {
          "output_type": "stream",
          "text": [
            "[0, 1]\n",
            "[1, 0]\n"
          ],
          "name": "stdout"
        }
      ]
    },
    {
      "cell_type": "markdown",
      "metadata": {
        "id": "83erL2sshEIb",
        "colab_type": "text"
      },
      "source": [
        "Nilai risk dari sebuah aksi alpha_i yang diambil diberikan data x bisa dihitung menggunakan formula perhitungan berikut ini:\n",
        "\n",
        "> R(alpha_i | x) = Σ(λ(alpha_i | w_j) * P(w_i | x)) untuk setiap kelas j yang ada\n",
        "\n",
        "Setelah mendapatkan nilai risk untuk masing-masing aksi dan data, maka untuk setiap data bisa diambil aksi yang memiliki nilai risk yang lebih kecil."
      ]
    },
    {
      "cell_type": "markdown",
      "metadata": {
        "id": "RUtiS37UklXt",
        "colab_type": "text"
      },
      "source": [
        "Namun pada kasus ini, jumlah aksi dan kelas adalah sebanyak 2, sehingga bisa menggunakan Bayes Decision Rule berbasis Minimum Risk:\n",
        "\n",
        "> Jika P(x | w_1)/P(x | w_2) > (λ12 - λ22)/(λ21 - λ11) * P(w_2)/P(w_1), maka ambil aksi alpha_1, kalau tidak ambil aksi alpha_2\n",
        "\n",
        "- Nilai P(x | w_1)/P(x | w_2) disebut *Likelihood Ratio* (LR)\n",
        "- Nilai (λ12 - λ22)/(λ21 - λ11) * P(w_2)/P(w_1) disebut *Threshold*\n",
        "\n",
        "Karena nilai P(x | w_2) mungkin sama dengan nol, maka nilainya akan diganti menjadi 1e-323 agar tidak terjadi pembagian oleh nilai nol"
      ]
    },
    {
      "cell_type": "code",
      "metadata": {
        "id": "SS9oxwXAe6mH",
        "colab_type": "code",
        "colab": {
          "base_uri": "https://localhost:8080/",
          "height": 34
        },
        "outputId": "27951c21-44a4-4767-b510-6043f2eb9b8e"
      },
      "source": [
        "def likelihood_ratio(data) :\n",
        "  try :\n",
        "    return P_conditional[data]['salmon']/P_conditional[data]['seabass']\n",
        "  except ZeroDivisionError :\n",
        "    return P_conditional[data]['salmon']/1e-323\n",
        "\n",
        "threshold = ((loss[0][1] - loss[1][1]) * P_prior['seabass']) / ((loss[1][0] - loss[0][0]) * P_prior['salmon'])\n",
        "threshold"
      ],
      "execution_count": 9,
      "outputs": [
        {
          "output_type": "execute_result",
          "data": {
            "text/plain": [
              "0.7702702702702702"
            ]
          },
          "metadata": {
            "tags": []
          },
          "execution_count": 9
        }
      ]
    },
    {
      "cell_type": "code",
      "metadata": {
        "id": "70yw2K55nX--",
        "colab_type": "code",
        "colab": {
          "base_uri": "https://localhost:8080/",
          "height": 360
        },
        "outputId": "f7e93f90-1f37-49b2-d9a8-54aaf9ad71f9"
      },
      "source": [
        "for interval in x :\n",
        "  action = ''\n",
        "  if likelihood_ratio(interval) > threshold :\n",
        "    action = 'decide salmon'\n",
        "  else :\n",
        "    action = 'decide seabass'\n",
        "  print('Untuk data ikan dengan interval lightness', interval, ', karena nilai Likelihood Ratio', '>' if likelihood_ratio(interval) > threshold else '<', 'Threshold, maka akan diambil action', action)"
      ],
      "execution_count": 10,
      "outputs": [
        {
          "output_type": "stream",
          "text": [
            "Untuk data ikan dengan interval lightness 0.5-1.0 , karena nilai Likelihood Ratio > Threshold, maka akan diambil action decide salmon\n",
            "Untuk data ikan dengan interval lightness 1.0-1.5 , karena nilai Likelihood Ratio > Threshold, maka akan diambil action decide salmon\n",
            "Untuk data ikan dengan interval lightness 1.5-2.0 , karena nilai Likelihood Ratio > Threshold, maka akan diambil action decide salmon\n",
            "Untuk data ikan dengan interval lightness 2.0-2.5 , karena nilai Likelihood Ratio > Threshold, maka akan diambil action decide salmon\n",
            "Untuk data ikan dengan interval lightness 2.5-3.0 , karena nilai Likelihood Ratio > Threshold, maka akan diambil action decide salmon\n",
            "Untuk data ikan dengan interval lightness 3.0-3.5 , karena nilai Likelihood Ratio > Threshold, maka akan diambil action decide salmon\n",
            "Untuk data ikan dengan interval lightness 3.5-4.0 , karena nilai Likelihood Ratio > Threshold, maka akan diambil action decide salmon\n",
            "Untuk data ikan dengan interval lightness 4.0-4.5 , karena nilai Likelihood Ratio > Threshold, maka akan diambil action decide salmon\n",
            "Untuk data ikan dengan interval lightness 4.5-5.0 , karena nilai Likelihood Ratio > Threshold, maka akan diambil action decide salmon\n",
            "Untuk data ikan dengan interval lightness 5.0-5.5 , karena nilai Likelihood Ratio > Threshold, maka akan diambil action decide salmon\n",
            "Untuk data ikan dengan interval lightness 5.5-6.0 , karena nilai Likelihood Ratio < Threshold, maka akan diambil action decide seabass\n",
            "Untuk data ikan dengan interval lightness 6.0-6.5 , karena nilai Likelihood Ratio < Threshold, maka akan diambil action decide seabass\n",
            "Untuk data ikan dengan interval lightness 6.5-7.0 , karena nilai Likelihood Ratio < Threshold, maka akan diambil action decide seabass\n",
            "Untuk data ikan dengan interval lightness 7.0-7.5 , karena nilai Likelihood Ratio < Threshold, maka akan diambil action decide seabass\n",
            "Untuk data ikan dengan interval lightness 7.5-8.0 , karena nilai Likelihood Ratio < Threshold, maka akan diambil action decide seabass\n",
            "Untuk data ikan dengan interval lightness 8.0-8.5 , karena nilai Likelihood Ratio < Threshold, maka akan diambil action decide seabass\n",
            "Untuk data ikan dengan interval lightness 8.5-9.0 , karena nilai Likelihood Ratio < Threshold, maka akan diambil action decide seabass\n",
            "Untuk data ikan dengan interval lightness 9.0-9.5 , karena nilai Likelihood Ratio < Threshold, maka akan diambil action decide seabass\n",
            "Untuk data ikan dengan interval lightness 9.5-10.0 , karena nilai Likelihood Ratio < Threshold, maka akan diambil action decide seabass\n"
          ],
          "name": "stdout"
        }
      ]
    }
  ]
}